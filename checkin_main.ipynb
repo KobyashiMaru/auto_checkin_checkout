{
 "cells": [
  {
   "cell_type": "code",
   "execution_count": null,
   "metadata": {},
   "outputs": [],
   "source": [
    "import numpy as np\n",
    "from selenium import webdriver\n",
    "from bs4 import BeautifulSoup\n",
    "from selenium.webdriver.common.keys import Keys\n",
    "from selenium.webdriver import ActionChains\n",
    "import datetime\n",
    "import time\n",
    "import threading"
   ]
  },
  {
   "cell_type": "markdown",
   "metadata": {},
   "source": [
    "## Config"
   ]
  },
  {
   "cell_type": "code",
   "execution_count": null,
   "metadata": {},
   "outputs": [],
   "source": [
    "account = \"hao\"\n",
    "password = \"***\" #Enter your password here\n",
    "\n",
    "checkin_hour = 9\n",
    "checkin_minute = 15\n",
    "\n",
    "checkout_hour = 18\n",
    "checkout_minute = 30"
   ]
  },
  {
   "cell_type": "markdown",
   "metadata": {},
   "source": [
    "## functionalize everything"
   ]
  },
  {
   "cell_type": "code",
   "execution_count": null,
   "metadata": {},
   "outputs": [],
   "source": [
    "def login_uof(account, password):\n",
    "    \n",
    "    wd.get('http://uof.ghtinc.com:7777/UOF/login.aspx?state=SSOFail')\n",
    "    \n",
    "    wd.find_element_by_id(\"txtAccount\").send_keys(account)\n",
    "    wd.find_element_by_id(\"txtPwd\").send_keys(password)\n",
    "    wd.find_element_by_id('txtPwd').send_keys(Keys.ENTER)\n",
    "    "
   ]
  },
  {
   "cell_type": "code",
   "execution_count": null,
   "metadata": {},
   "outputs": [],
   "source": [
    "def checkin_action(wd):\n",
    "    checkin_element = wd.find_element_by_link_text(\"簽到\")\n",
    "    action = ActionChains(wd)\n",
    "    action.move_to_element(checkin_element)\n",
    "    action.click(checkin_element)\n",
    "    action.release(checkin_element)\n",
    "    action.perform()\n",
    "    wd.switch_to.alert.accept()\n"
   ]
  },
  {
   "cell_type": "code",
   "execution_count": null,
   "metadata": {},
   "outputs": [],
   "source": [
    "def checkout_action(wd):\n",
    "    checkin_element = wd.find_element_by_link_text(\"簽退\")\n",
    "    action = ActionChains(wd)\n",
    "    action.move_to_element(checkin_element)\n",
    "    action.click(checkin_element)\n",
    "    action.release(checkin_element)\n",
    "    action.perform()\n",
    "    wd.switch_to.alert.accept()"
   ]
  },
  {
   "cell_type": "code",
   "execution_count": null,
   "metadata": {},
   "outputs": [],
   "source": [
    "def is_it_workday_or_not():\n",
    "    work_weekday = np.array([0, 1, 2, 3, 4], dtype = int)\n",
    "    today_weekday = np.array([datetime.datetime.today().weekday()])\n",
    "    is_it_workday = np.isin(today_weekday, work_weekday)\n",
    "    return (is_it_workday)"
   ]
  },
  {
   "cell_type": "code",
   "execution_count": null,
   "metadata": {},
   "outputs": [],
   "source": [
    "def get_hour():\n",
    "    return (datetime.datetime.today().hour)\n"
   ]
  },
  {
   "cell_type": "code",
   "execution_count": null,
   "metadata": {},
   "outputs": [],
   "source": [
    "def get_minute():\n",
    "    return (datetime.datetime.today().minute)"
   ]
  },
  {
   "cell_type": "code",
   "execution_count": null,
   "metadata": {},
   "outputs": [],
   "source": [
    "def close_wd():\n",
    "    wd.close()"
   ]
  },
  {
   "cell_type": "code",
   "execution_count": null,
   "metadata": {},
   "outputs": [],
   "source": [
    "def get_input():\n",
    "    global flag\n",
    "    keystrk=input('The program will stop when you press enter here \\n')\n",
    "    # thread doesn't continue until key is pressed\n",
    "    print('You pressed: ', keystrk)\n",
    "    flag=False\n",
    "    print('flag is now:', flag)"
   ]
  },
  {
   "cell_type": "markdown",
   "metadata": {},
   "source": [
    "## Loop"
   ]
  },
  {
   "cell_type": "code",
   "execution_count": null,
   "metadata": {},
   "outputs": [],
   "source": [
    "\n",
    "\n",
    "input_thread = threading.Thread(target = get_input)\n",
    "input_thread.start()\n",
    "while(True):\n",
    "    \n",
    "\n",
    "    \n",
    "    \n",
    "    if (get_hour() == checkin_hour and get_minute() == checkin_minute and is_it_workday_or_not()):\n",
    "    \n",
    "    \n",
    "        wd = webdriver.Firefox()\n",
    "        time.sleep(10)\n",
    "        \n",
    "        login_uof(account, password)\n",
    "        time.sleep(10)\n",
    "        \n",
    "        checkin_action(wd)\n",
    "        print(\"You are checked in, timestamp\", datetime.datetime.today().strftime(\"%Y/%m/%d %H:%M:%S\"))\n",
    "        time.sleep(50)\n",
    "        \n",
    "        close_wd()\n",
    "        \n",
    "        \n",
    "    if (get_hour() == checkout_hour and get_minute() == checkout_minute and is_it_workday_or_not()):\n",
    "    \n",
    "    \n",
    "        wd = webdriver.Firefox()\n",
    "        time.sleep(10)\n",
    "        \n",
    "        login_uof(account, password)\n",
    "        time.sleep(10)\n",
    "        \n",
    "        checkout_action(wd)\n",
    "        print(\"You are checked out, timestamp\", datetime.datetime.today().strftime(\"%Y/%m/%d %H:%M:%S\"))\n",
    "        time.sleep(50)\n",
    "        \n",
    "        close_wd()\n",
    "        \n"
   ]
  },
  {
   "cell_type": "code",
   "execution_count": null,
   "metadata": {},
   "outputs": [],
   "source": []
  },
  {
   "cell_type": "code",
   "execution_count": null,
   "metadata": {},
   "outputs": [],
   "source": []
  },
  {
   "cell_type": "code",
   "execution_count": null,
   "metadata": {},
   "outputs": [],
   "source": []
  },
  {
   "cell_type": "code",
   "execution_count": null,
   "metadata": {},
   "outputs": [],
   "source": []
  },
  {
   "cell_type": "code",
   "execution_count": null,
   "metadata": {},
   "outputs": [],
   "source": []
  },
  {
   "cell_type": "code",
   "execution_count": null,
   "metadata": {},
   "outputs": [],
   "source": []
  },
  {
   "cell_type": "code",
   "execution_count": null,
   "metadata": {},
   "outputs": [],
   "source": []
  }
 ],
 "metadata": {
  "kernelspec": {
   "display_name": "Python 3",
   "language": "python",
   "name": "python3"
  },
  "language_info": {
   "codemirror_mode": {
    "name": "ipython",
    "version": 3
   },
   "file_extension": ".py",
   "mimetype": "text/x-python",
   "name": "python",
   "nbconvert_exporter": "python",
   "pygments_lexer": "ipython3",
   "version": "3.8.5"
  }
 },
 "nbformat": 4,
 "nbformat_minor": 4
}
